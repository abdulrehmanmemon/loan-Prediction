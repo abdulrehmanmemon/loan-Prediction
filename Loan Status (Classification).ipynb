{
 "cells": [
  {
   "cell_type": "markdown",
   "id": "c603c666",
   "metadata": {},
   "source": [
    "# Eligiliblity for a loan \n",
    "\n",
    "## 1. Problem definition\n",
    "* By observing the pattern we have to design a model which predict the eligilibilty for loan\n",
    "## 2. Data \n",
    "* Source for this dataset is kaggle\n",
    "## 3.Evaluation\n",
    "* if this model is able to reach 95% it would be best to launch\n",
    "## 4. Features\n",
    "**Here are the features which would became input for prediction output**\n",
    "* 'Loan_ID'\n",
    "* 'Gender'\n",
    "* 'Married'\n",
    "* 'Dependents'\n",
    "* 'Education'\n",
    "* 'Self_Employed'\n",
    "* 'ApplicantIncome'\n",
    "* 'CoapplicantIncome'\n",
    "* 'LoanAmount'\n",
    "* 'Loan_Amount_Term'\n",
    "* 'Credit_History'\n",
    "* 'Property_Area'"
   ]
  },
  {
   "cell_type": "code",
   "execution_count": 81,
   "id": "f3f7f5f1",
   "metadata": {},
   "outputs": [],
   "source": [
    "#Some import libraries\n",
    "import pandas as pd\n",
    "import numpy as np\n",
    "import matplotlib.pyplot as plt\n",
    "%matplotlib inline"
   ]
  },
  {
   "cell_type": "markdown",
   "id": "e9473bd8",
   "metadata": {},
   "source": [
    "# Load the Data and try EDA "
   ]
  },
  {
   "cell_type": "code",
   "execution_count": 82,
   "id": "2ddcb796",
   "metadata": {},
   "outputs": [
    {
     "data": {
      "text/html": [
       "<div>\n",
       "<style scoped>\n",
       "    .dataframe tbody tr th:only-of-type {\n",
       "        vertical-align: middle;\n",
       "    }\n",
       "\n",
       "    .dataframe tbody tr th {\n",
       "        vertical-align: top;\n",
       "    }\n",
       "\n",
       "    .dataframe thead th {\n",
       "        text-align: right;\n",
       "    }\n",
       "</style>\n",
       "<table border=\"1\" class=\"dataframe\">\n",
       "  <thead>\n",
       "    <tr style=\"text-align: right;\">\n",
       "      <th></th>\n",
       "      <th>Loan_ID</th>\n",
       "      <th>Gender</th>\n",
       "      <th>Married</th>\n",
       "      <th>Dependents</th>\n",
       "      <th>Education</th>\n",
       "      <th>Self_Employed</th>\n",
       "      <th>ApplicantIncome</th>\n",
       "      <th>CoapplicantIncome</th>\n",
       "      <th>LoanAmount</th>\n",
       "      <th>Loan_Amount_Term</th>\n",
       "      <th>Credit_History</th>\n",
       "      <th>Property_Area</th>\n",
       "      <th>Loan_Status</th>\n",
       "    </tr>\n",
       "  </thead>\n",
       "  <tbody>\n",
       "    <tr>\n",
       "      <th>0</th>\n",
       "      <td>LP001002</td>\n",
       "      <td>Male</td>\n",
       "      <td>No</td>\n",
       "      <td>0</td>\n",
       "      <td>Graduate</td>\n",
       "      <td>No</td>\n",
       "      <td>5849</td>\n",
       "      <td>0.0</td>\n",
       "      <td>NaN</td>\n",
       "      <td>360.0</td>\n",
       "      <td>1.0</td>\n",
       "      <td>Urban</td>\n",
       "      <td>Y</td>\n",
       "    </tr>\n",
       "    <tr>\n",
       "      <th>1</th>\n",
       "      <td>LP001003</td>\n",
       "      <td>Male</td>\n",
       "      <td>Yes</td>\n",
       "      <td>1</td>\n",
       "      <td>Graduate</td>\n",
       "      <td>No</td>\n",
       "      <td>4583</td>\n",
       "      <td>1508.0</td>\n",
       "      <td>128.0</td>\n",
       "      <td>360.0</td>\n",
       "      <td>1.0</td>\n",
       "      <td>Rural</td>\n",
       "      <td>N</td>\n",
       "    </tr>\n",
       "    <tr>\n",
       "      <th>2</th>\n",
       "      <td>LP001005</td>\n",
       "      <td>Male</td>\n",
       "      <td>Yes</td>\n",
       "      <td>0</td>\n",
       "      <td>Graduate</td>\n",
       "      <td>Yes</td>\n",
       "      <td>3000</td>\n",
       "      <td>0.0</td>\n",
       "      <td>66.0</td>\n",
       "      <td>360.0</td>\n",
       "      <td>1.0</td>\n",
       "      <td>Urban</td>\n",
       "      <td>Y</td>\n",
       "    </tr>\n",
       "    <tr>\n",
       "      <th>3</th>\n",
       "      <td>LP001006</td>\n",
       "      <td>Male</td>\n",
       "      <td>Yes</td>\n",
       "      <td>0</td>\n",
       "      <td>Not Graduate</td>\n",
       "      <td>No</td>\n",
       "      <td>2583</td>\n",
       "      <td>2358.0</td>\n",
       "      <td>120.0</td>\n",
       "      <td>360.0</td>\n",
       "      <td>1.0</td>\n",
       "      <td>Urban</td>\n",
       "      <td>Y</td>\n",
       "    </tr>\n",
       "    <tr>\n",
       "      <th>4</th>\n",
       "      <td>LP001008</td>\n",
       "      <td>Male</td>\n",
       "      <td>No</td>\n",
       "      <td>0</td>\n",
       "      <td>Graduate</td>\n",
       "      <td>No</td>\n",
       "      <td>6000</td>\n",
       "      <td>0.0</td>\n",
       "      <td>141.0</td>\n",
       "      <td>360.0</td>\n",
       "      <td>1.0</td>\n",
       "      <td>Urban</td>\n",
       "      <td>Y</td>\n",
       "    </tr>\n",
       "  </tbody>\n",
       "</table>\n",
       "</div>"
      ],
      "text/plain": [
       "    Loan_ID Gender Married Dependents     Education Self_Employed  \\\n",
       "0  LP001002   Male      No          0      Graduate            No   \n",
       "1  LP001003   Male     Yes          1      Graduate            No   \n",
       "2  LP001005   Male     Yes          0      Graduate           Yes   \n",
       "3  LP001006   Male     Yes          0  Not Graduate            No   \n",
       "4  LP001008   Male      No          0      Graduate            No   \n",
       "\n",
       "   ApplicantIncome  CoapplicantIncome  LoanAmount  Loan_Amount_Term  \\\n",
       "0             5849                0.0         NaN             360.0   \n",
       "1             4583             1508.0       128.0             360.0   \n",
       "2             3000                0.0        66.0             360.0   \n",
       "3             2583             2358.0       120.0             360.0   \n",
       "4             6000                0.0       141.0             360.0   \n",
       "\n",
       "   Credit_History Property_Area Loan_Status  \n",
       "0             1.0         Urban           Y  \n",
       "1             1.0         Rural           N  \n",
       "2             1.0         Urban           Y  \n",
       "3             1.0         Urban           Y  \n",
       "4             1.0         Urban           Y  "
      ]
     },
     "execution_count": 82,
     "metadata": {},
     "output_type": "execute_result"
    }
   ],
   "source": [
    "df=pd.read_csv('train_u6lujuX_CVtuZ9i.csv')\n",
    "df.head()"
   ]
  },
  {
   "cell_type": "code",
   "execution_count": 83,
   "id": "7c3f3236",
   "metadata": {},
   "outputs": [
    {
     "name": "stdout",
     "output_type": "stream",
     "text": [
      "<class 'pandas.core.frame.DataFrame'>\n",
      "RangeIndex: 614 entries, 0 to 613\n",
      "Data columns (total 13 columns):\n",
      " #   Column             Non-Null Count  Dtype  \n",
      "---  ------             --------------  -----  \n",
      " 0   Loan_ID            614 non-null    object \n",
      " 1   Gender             601 non-null    object \n",
      " 2   Married            611 non-null    object \n",
      " 3   Dependents         599 non-null    object \n",
      " 4   Education          614 non-null    object \n",
      " 5   Self_Employed      582 non-null    object \n",
      " 6   ApplicantIncome    614 non-null    int64  \n",
      " 7   CoapplicantIncome  614 non-null    float64\n",
      " 8   LoanAmount         592 non-null    float64\n",
      " 9   Loan_Amount_Term   600 non-null    float64\n",
      " 10  Credit_History     564 non-null    float64\n",
      " 11  Property_Area      614 non-null    object \n",
      " 12  Loan_Status        614 non-null    object \n",
      "dtypes: float64(4), int64(1), object(8)\n",
      "memory usage: 62.5+ KB\n"
     ]
    }
   ],
   "source": [
    "df.info()"
   ]
  },
  {
   "cell_type": "code",
   "execution_count": 84,
   "id": "c04b5e37",
   "metadata": {},
   "outputs": [
    {
     "data": {
      "text/html": [
       "<div>\n",
       "<style scoped>\n",
       "    .dataframe tbody tr th:only-of-type {\n",
       "        vertical-align: middle;\n",
       "    }\n",
       "\n",
       "    .dataframe tbody tr th {\n",
       "        vertical-align: top;\n",
       "    }\n",
       "\n",
       "    .dataframe thead th {\n",
       "        text-align: right;\n",
       "    }\n",
       "</style>\n",
       "<table border=\"1\" class=\"dataframe\">\n",
       "  <thead>\n",
       "    <tr style=\"text-align: right;\">\n",
       "      <th>Loan_Status</th>\n",
       "      <th>N</th>\n",
       "      <th>Y</th>\n",
       "    </tr>\n",
       "    <tr>\n",
       "      <th>Gender</th>\n",
       "      <th></th>\n",
       "      <th></th>\n",
       "    </tr>\n",
       "  </thead>\n",
       "  <tbody>\n",
       "    <tr>\n",
       "      <th>Female</th>\n",
       "      <td>37</td>\n",
       "      <td>75</td>\n",
       "    </tr>\n",
       "    <tr>\n",
       "      <th>Male</th>\n",
       "      <td>150</td>\n",
       "      <td>339</td>\n",
       "    </tr>\n",
       "  </tbody>\n",
       "</table>\n",
       "</div>"
      ],
      "text/plain": [
       "Loan_Status    N    Y\n",
       "Gender               \n",
       "Female        37   75\n",
       "Male         150  339"
      ]
     },
     "execution_count": 84,
     "metadata": {},
     "output_type": "execute_result"
    }
   ],
   "source": [
    "pd.crosstab(df['Gender'],df['Loan_Status'])"
   ]
  },
  {
   "cell_type": "code",
   "execution_count": 85,
   "id": "7ca126d2",
   "metadata": {},
   "outputs": [
    {
     "name": "stdout",
     "output_type": "stream",
     "text": [
      "Female :  0.6696428571428571 and Male :  0.6932515337423313\n"
     ]
    }
   ],
   "source": [
    "#Comapring thw ratios\n",
    "female=(75/(37+75))\n",
    "male=(339/(150+339))\n",
    "print('Female : ',female ,'and Male : ', male)"
   ]
  },
  {
   "cell_type": "markdown",
   "id": "6b3fb258",
   "metadata": {},
   "source": [
    "* When we Compare the ratio of male female we come to know that there is alomost no effect of Gender on the Loan Status hence both ratios are almost equal"
   ]
  },
  {
   "cell_type": "code",
   "execution_count": 86,
   "id": "8580b92e",
   "metadata": {},
   "outputs": [
    {
     "data": {
      "text/html": [
       "<div>\n",
       "<style scoped>\n",
       "    .dataframe tbody tr th:only-of-type {\n",
       "        vertical-align: middle;\n",
       "    }\n",
       "\n",
       "    .dataframe tbody tr th {\n",
       "        vertical-align: top;\n",
       "    }\n",
       "\n",
       "    .dataframe thead th {\n",
       "        text-align: right;\n",
       "    }\n",
       "</style>\n",
       "<table border=\"1\" class=\"dataframe\">\n",
       "  <thead>\n",
       "    <tr style=\"text-align: right;\">\n",
       "      <th>Loan_Status</th>\n",
       "      <th>N</th>\n",
       "      <th>Y</th>\n",
       "    </tr>\n",
       "    <tr>\n",
       "      <th>Dependents</th>\n",
       "      <th></th>\n",
       "      <th></th>\n",
       "    </tr>\n",
       "  </thead>\n",
       "  <tbody>\n",
       "    <tr>\n",
       "      <th>0</th>\n",
       "      <td>107</td>\n",
       "      <td>238</td>\n",
       "    </tr>\n",
       "    <tr>\n",
       "      <th>1</th>\n",
       "      <td>36</td>\n",
       "      <td>66</td>\n",
       "    </tr>\n",
       "    <tr>\n",
       "      <th>2</th>\n",
       "      <td>25</td>\n",
       "      <td>76</td>\n",
       "    </tr>\n",
       "    <tr>\n",
       "      <th>3+</th>\n",
       "      <td>18</td>\n",
       "      <td>33</td>\n",
       "    </tr>\n",
       "  </tbody>\n",
       "</table>\n",
       "</div>"
      ],
      "text/plain": [
       "Loan_Status    N    Y\n",
       "Dependents           \n",
       "0            107  238\n",
       "1             36   66\n",
       "2             25   76\n",
       "3+            18   33"
      ]
     },
     "execution_count": 86,
     "metadata": {},
     "output_type": "execute_result"
    }
   ],
   "source": [
    "#Chance of loan on the number of dependents\n",
    "pd.crosstab(df['Dependents'],df['Loan_Status'])"
   ]
  },
  {
   "cell_type": "code",
   "execution_count": 87,
   "id": "fd1942bb",
   "metadata": {},
   "outputs": [
    {
     "data": {
      "image/png": "[encoded data removed]",
      "text/plain": [
       "<Figure size 432x288 with 1 Axes>"
      ]
     },
     "metadata": {
      "needs_background": "light"
     },
     "output_type": "display_data"
    },
    {
     "data": {
      "text/plain": [
       "<Figure size 1440x720 with 0 Axes>"
      ]
     },
     "metadata": {},
     "output_type": "display_data"
    }
   ],
   "source": [
    "g=pd.crosstab(df['Dependents'],df['Loan_Status'])\n",
    "g.plot.bar()\n",
    "plt.xticks(rotation=0)\n",
    "fig=plt.figure(figsize=(20,10));"
   ]
  },
  {
   "cell_type": "code",
   "execution_count": 88,
   "id": "685d948d",
   "metadata": {},
   "outputs": [
    {
     "name": "stdout",
     "output_type": "stream",
     "text": [
      "0: 0.6898550724637681\n",
      "1: 0.6470588235294118\n",
      "2: 0.7524752475247525\n",
      "3+ : 0.6470588235294118\n"
     ]
    }
   ],
   "source": [
    "print(f\"0: {238/(238+107)}\\n1: {66/(66+36)}\\n2: {76/(76+25)}\\n3+ : {33/(33+18)}\")"
   ]
  },
  {
   "cell_type": "markdown",
   "id": "52c1c738",
   "metadata": {},
   "source": [
    "No real conclusion is Possible because there could be two possibilities\n",
    "1. Less dependents more chances (which is quit harder to absorb) [Indirect relation]\n",
    "2. More number of dependents hence more chances [Direct Relation]"
   ]
  },
  {
   "cell_type": "code",
   "execution_count": 117,
   "id": "9e6732d9",
   "metadata": {},
   "outputs": [
    {
     "data": {
      "text/plain": [
       "2    422\n",
       "1    192\n",
       "Name: Loan_Status, dtype: int64"
      ]
     },
     "execution_count": 117,
     "metadata": {},
     "output_type": "execute_result"
    }
   ],
   "source": [
    "df['Loan_Status'].value_counts()"
   ]
  },
  {
   "cell_type": "code",
   "execution_count": 89,
   "id": "72d9e2f2",
   "metadata": {},
   "outputs": [
    {
     "data": {
      "text/html": [
       "<div>\n",
       "<style scoped>\n",
       "    .dataframe tbody tr th:only-of-type {\n",
       "        vertical-align: middle;\n",
       "    }\n",
       "\n",
       "    .dataframe tbody tr th {\n",
       "        vertical-align: top;\n",
       "    }\n",
       "\n",
       "    .dataframe thead th {\n",
       "        text-align: right;\n",
       "    }\n",
       "</style>\n",
       "<table border=\"1\" class=\"dataframe\">\n",
       "  <thead>\n",
       "    <tr style=\"text-align: right;\">\n",
       "      <th></th>\n",
       "      <th>ApplicantIncome</th>\n",
       "      <th>CoapplicantIncome</th>\n",
       "      <th>LoanAmount</th>\n",
       "      <th>Loan_Amount_Term</th>\n",
       "      <th>Credit_History</th>\n",
       "    </tr>\n",
       "  </thead>\n",
       "  <tbody>\n",
       "    <tr>\n",
       "      <th>count</th>\n",
       "      <td>614.000000</td>\n",
       "      <td>614.000000</td>\n",
       "      <td>592.000000</td>\n",
       "      <td>600.00000</td>\n",
       "      <td>564.000000</td>\n",
       "    </tr>\n",
       "    <tr>\n",
       "      <th>mean</th>\n",
       "      <td>5403.459283</td>\n",
       "      <td>1621.245798</td>\n",
       "      <td>146.412162</td>\n",
       "      <td>342.00000</td>\n",
       "      <td>0.842199</td>\n",
       "    </tr>\n",
       "    <tr>\n",
       "      <th>std</th>\n",
       "      <td>6109.041673</td>\n",
       "      <td>2926.248369</td>\n",
       "      <td>85.587325</td>\n",
       "      <td>65.12041</td>\n",
       "      <td>0.364878</td>\n",
       "    </tr>\n",
       "    <tr>\n",
       "      <th>min</th>\n",
       "      <td>150.000000</td>\n",
       "      <td>0.000000</td>\n",
       "      <td>9.000000</td>\n",
       "      <td>12.00000</td>\n",
       "      <td>0.000000</td>\n",
       "    </tr>\n",
       "    <tr>\n",
       "      <th>25%</th>\n",
       "      <td>2877.500000</td>\n",
       "      <td>0.000000</td>\n",
       "      <td>100.000000</td>\n",
       "      <td>360.00000</td>\n",
       "      <td>1.000000</td>\n",
       "    </tr>\n",
       "    <tr>\n",
       "      <th>50%</th>\n",
       "      <td>3812.500000</td>\n",
       "      <td>1188.500000</td>\n",
       "      <td>128.000000</td>\n",
       "      <td>360.00000</td>\n",
       "      <td>1.000000</td>\n",
       "    </tr>\n",
       "    <tr>\n",
       "      <th>75%</th>\n",
       "      <td>5795.000000</td>\n",
       "      <td>2297.250000</td>\n",
       "      <td>168.000000</td>\n",
       "      <td>360.00000</td>\n",
       "      <td>1.000000</td>\n",
       "    </tr>\n",
       "    <tr>\n",
       "      <th>max</th>\n",
       "      <td>81000.000000</td>\n",
       "      <td>41667.000000</td>\n",
       "      <td>700.000000</td>\n",
       "      <td>480.00000</td>\n",
       "      <td>1.000000</td>\n",
       "    </tr>\n",
       "  </tbody>\n",
       "</table>\n",
       "</div>"
      ],
      "text/plain": [
       "       ApplicantIncome  CoapplicantIncome  LoanAmount  Loan_Amount_Term  \\\n",
       "count       614.000000         614.000000  592.000000         600.00000   \n",
       "mean       5403.459283        1621.245798  146.412162         342.00000   \n",
       "std        6109.041673        2926.248369   85.587325          65.12041   \n",
       "min         150.000000           0.000000    9.000000          12.00000   \n",
       "25%        2877.500000           0.000000  100.000000         360.00000   \n",
       "50%        3812.500000        1188.500000  128.000000         360.00000   \n",
       "75%        5795.000000        2297.250000  168.000000         360.00000   \n",
       "max       81000.000000       41667.000000  700.000000         480.00000   \n",
       "\n",
       "       Credit_History  \n",
       "count      564.000000  \n",
       "mean         0.842199  \n",
       "std          0.364878  \n",
       "min          0.000000  \n",
       "25%          1.000000  \n",
       "50%          1.000000  \n",
       "75%          1.000000  \n",
       "max          1.000000  "
      ]
     },
     "execution_count": 89,
     "metadata": {},
     "output_type": "execute_result"
    }
   ],
   "source": [
    "df.describe()"
   ]
  },
  {
   "cell_type": "code",
   "execution_count": 90,
   "id": "4ce87b4c",
   "metadata": {},
   "outputs": [
    {
     "data": {
      "text/plain": [
       "Loan_ID               0\n",
       "Gender               13\n",
       "Married               3\n",
       "Dependents           15\n",
       "Education             0\n",
       "Self_Employed        32\n",
       "ApplicantIncome       0\n",
       "CoapplicantIncome     0\n",
       "LoanAmount           22\n",
       "Loan_Amount_Term     14\n",
       "Credit_History       50\n",
       "Property_Area         0\n",
       "Loan_Status           0\n",
       "dtype: int64"
      ]
     },
     "execution_count": 90,
     "metadata": {},
     "output_type": "execute_result"
    }
   ],
   "source": [
    "df.isna().sum()"
   ]
  },
  {
   "cell_type": "markdown",
   "id": "c9749388",
   "metadata": {},
   "source": [
    "# Getting Our Data Ready \n",
    "-> As we know that For a Machine Learning Dataset, we have to fulfill two necessary conditions\n",
    "1. NO UNFILLED ENTRY\n",
    "2. ALL DATA SHOULD BE NUMERIC\n",
    "\n",
    "-> We are provided with two datasets 1. Train data 2. test data\n",
    "hence preproccessing for each would be time taking hence we are going to make a preprocessing function for it"
   ]
  },
  {
   "cell_type": "code",
   "execution_count": 91,
   "id": "ad391248",
   "metadata": {},
   "outputs": [],
   "source": [
    "def preprocessing (df):\n",
    "    #Filling Numeric data\n",
    "    print('Numeric Labels Content Null entries: \\n')\n",
    "    for label , content in df.items():\n",
    "        if pd.api.types.is_numeric_dtype(content):\n",
    "            if pd.isnull(content).sum(): \n",
    "                print(label)\n",
    "                df[label] = content.fillna(content.median())\n",
    "    #Time for String (first change it to Categorial)\n",
    "    print('String Labels Content Null entries: \\n')\n",
    "    for label,content in df.items():\n",
    "        if pd.api.types.is_string_dtype(content):\n",
    "            if content.isna().sum():\n",
    "                print(label)\n",
    "    for label , content in df.items():\n",
    "        if not pd.api.types.is_numeric_dtype(content):\n",
    "            df[label]=content.astype('category').cat.as_ordered()\n",
    "            df[label]=pd.Categorical(content).codes+1\n",
    "    return df"
   ]
  },
  {
   "cell_type": "code",
   "execution_count": 92,
   "id": "f2269386",
   "metadata": {},
   "outputs": [
    {
     "name": "stdout",
     "output_type": "stream",
     "text": [
      "Numeric Labels Content Null entries: \n",
      "\n",
      "LoanAmount\n",
      "Loan_Amount_Term\n",
      "Credit_History\n",
      "String Labels Content Null entries: \n",
      "\n",
      "Gender\n",
      "Married\n",
      "Dependents\n",
      "Self_Employed\n"
     ]
    }
   ],
   "source": [
    "df_tmp=preprocessing(df)"
   ]
  },
  {
   "cell_type": "code",
   "execution_count": 93,
   "id": "623e0be5",
   "metadata": {},
   "outputs": [
    {
     "data": {
      "text/plain": [
       "Loan_ID                int16\n",
       "Gender                  int8\n",
       "Married                 int8\n",
       "Dependents              int8\n",
       "Education               int8\n",
       "Self_Employed           int8\n",
       "ApplicantIncome        int64\n",
       "CoapplicantIncome    float64\n",
       "LoanAmount           float64\n",
       "Loan_Amount_Term     float64\n",
       "Credit_History       float64\n",
       "Property_Area           int8\n",
       "Loan_Status             int8\n",
       "dtype: object"
      ]
     },
     "execution_count": 93,
     "metadata": {},
     "output_type": "execute_result"
    }
   ],
   "source": [
    "#Lets check the dtype\n",
    "df_tmp.dtypes"
   ]
  },
  {
   "cell_type": "code",
   "execution_count": 94,
   "id": "8546a985",
   "metadata": {},
   "outputs": [
    {
     "data": {
      "text/plain": [
       "{'Loan_Status'}"
      ]
     },
     "execution_count": 94,
     "metadata": {},
     "output_type": "execute_result"
    }
   ],
   "source": [
    "#Lets split first\n",
    "from sklearn.model_selection import train_test_split\n",
    "x_train, x_test,y_train,y_test= train_test_split(df_tmp.drop('Loan_Status',axis=1),df_tmp['Loan_Status'],test_size=0.2)\n",
    "set(df_tmp)-set(x_train)"
   ]
  },
  {
   "cell_type": "markdown",
   "id": "cd5d843a",
   "metadata": {},
   "source": [
    "# 5. Modelling\n",
    "-> Three Models we will use\n",
    "1. LogisticRegression\n",
    "2. K-Nearest Neighbours Classifier\n",
    "3. Random Forest Classifier\n",
    "\n",
    "### LogisticRegression "
   ]
  },
  {
   "cell_type": "code",
   "execution_count": 95,
   "id": "aa006388",
   "metadata": {},
   "outputs": [
    {
     "name": "stderr",
     "output_type": "stream",
     "text": [
      "C:\\python310\\lib\\site-packages\\sklearn\\linear_model\\_logistic.py:444: ConvergenceWarning: lbfgs failed to converge (status=1):\n",
      "STOP: TOTAL NO. of ITERATIONS REACHED LIMIT.\n",
      "\n",
      "Increase the number of iterations (max_iter) or scale the data as shown in:\n",
      "    https://scikit-learn.org/stable/modules/preprocessing.html\n",
      "Please also refer to the documentation for alternative solver options:\n",
      "    https://scikit-learn.org/stable/modules/linear_model.html#logistic-regression\n",
      "  n_iter_i = _check_optimize_result(\n"
     ]
    }
   ],
   "source": [
    "models_score={}\n",
    "np.random.seed(42)\n",
    "from sklearn.linear_model import LogisticRegression\n",
    "r_model_base=LogisticRegression()\n",
    "r_model_base.fit(x_train,y_train)\n",
    "models_score['LogisticRegression']=r_model_base.score(x_test,y_test)"
   ]
  },
  {
   "cell_type": "markdown",
   "id": "349db430",
   "metadata": {},
   "source": [
    "### K-Nearest Neighbours Classifier"
   ]
  },
  {
   "cell_type": "code",
   "execution_count": 96,
   "id": "3692b466",
   "metadata": {},
   "outputs": [],
   "source": [
    "np.random.seed(42)\n",
    "from sklearn.neighbors import KNeighborsClassifier\n",
    "k_model_base=KNeighborsClassifier()\n",
    "k_model_base.fit(x_train,y_train)\n",
    "models_score['KNeighborsClassifier']=k_model_base.score(x_test,y_test)"
   ]
  },
  {
   "cell_type": "markdown",
   "id": "bbf925d5",
   "metadata": {},
   "source": [
    "### Random Forest Classifier "
   ]
  },
  {
   "cell_type": "code",
   "execution_count": 97,
   "id": "89000c5f",
   "metadata": {},
   "outputs": [],
   "source": [
    "np.random.seed(42)\n",
    "from sklearn.ensemble import RandomForestClassifier\n",
    "f_model_base=RandomForestClassifier()\n",
    "f_model_base.fit(x_train,y_train)\n",
    "models_score['RandomForestClassifier']=f_model_base.score(x_test,y_test)"
   ]
  },
  {
   "cell_type": "code",
   "execution_count": 98,
   "id": "16560b81",
   "metadata": {},
   "outputs": [
    {
     "data": {
      "text/plain": [
       "{'LogisticRegression': 0.6747967479674797,\n",
       " 'KNeighborsClassifier': 0.6178861788617886,\n",
       " 'RandomForestClassifier': 0.7723577235772358}"
      ]
     },
     "execution_count": 98,
     "metadata": {},
     "output_type": "execute_result"
    }
   ],
   "source": [
    "models_score"
   ]
  },
  {
   "cell_type": "markdown",
   "id": "06e749f9",
   "metadata": {},
   "source": [
    "## Lets have a look on the following:\n",
    "* Hyperparameter tuning\n",
    "* Feature importance \n",
    "* Confusion matrix\n",
    "* cross_val_score\n",
    "* Precision\n",
    "* recall\n",
    "* F1\n",
    "* Classification report\n",
    "* ROC curve\n",
    "* Area Under the Curve (AUC)\n",
    "### Hyperparameter tuning"
   ]
  },
  {
   "cell_type": "code",
   "execution_count": 99,
   "id": "a6c6b427",
   "metadata": {},
   "outputs": [
    {
     "data": {
      "text/plain": [
       "{'C': 1.0,\n",
       " 'class_weight': None,\n",
       " 'dual': False,\n",
       " 'fit_intercept': True,\n",
       " 'intercept_scaling': 1,\n",
       " 'l1_ratio': None,\n",
       " 'max_iter': 100,\n",
       " 'multi_class': 'auto',\n",
       " 'n_jobs': None,\n",
       " 'penalty': 'l2',\n",
       " 'random_state': None,\n",
       " 'solver': 'lbfgs',\n",
       " 'tol': 0.0001,\n",
       " 'verbose': 0,\n",
       " 'warm_start': False}"
      ]
     },
     "execution_count": 99,
     "metadata": {},
     "output_type": "execute_result"
    }
   ],
   "source": [
    "r_model=LogisticRegression()\n",
    "r_model.get_params()"
   ]
  },
  {
   "cell_type": "code",
   "execution_count": 1,
   "id": "fb5bbb6b",
   "metadata": {},
   "outputs": [],
   "source": [
    "np.random.seed(42)\n",
    "from sklearn.model_selection import GridSearchCV\n",
    "r_model_grid={'penalty':['l1', 'l2', 'elasticnet', 'none'],\n",
    "               'solver':['newton-cg', 'lbfgs', 'liblinear', 'sag', 'saga'], \n",
    "                \"max_iter\": [40],\n",
    "                'verbose' : [0,1,2],\n",
    "                'n_jobs' : [-1,4]            \n",
    "             }\n",
    "r_model=GridSearchCV(estimator=LogisticRegression(),\n",
    "                    param_grid=r_model_grid,\n",
    "                    verbose=True,\n",
    "                    cv=5)\n",
    "r_model.fit(x_train,y_train)"
   ]
  },
  {
   "cell_type": "code",
   "execution_count": 101,
   "id": "7100406f",
   "metadata": {},
   "outputs": [
    {
     "data": {
      "text/plain": [
       "{'max_iter': 40,\n",
       " 'n_jobs': -1,\n",
       " 'penalty': 'l1',\n",
       " 'solver': 'liblinear',\n",
       " 'verbose': 0}"
      ]
     },
     "execution_count": 101,
     "metadata": {},
     "output_type": "execute_result"
    }
   ],
   "source": [
    "new_Score={}\n",
    "r_model.best_params_"
   ]
  },
  {
   "cell_type": "code",
   "execution_count": 102,
   "id": "68645b49",
   "metadata": {},
   "outputs": [
    {
     "data": {
      "text/plain": [
       "0.7886178861788617"
      ]
     },
     "execution_count": 102,
     "metadata": {},
     "output_type": "execute_result"
    }
   ],
   "source": [
    "#logistic\n",
    "r_model.score(x_test,y_test)"
   ]
  },
  {
   "cell_type": "code",
   "execution_count": 103,
   "id": "ded3f3de",
   "metadata": {},
   "outputs": [
    {
     "data": {
      "text/plain": [
       "{'LogisticRegression': 0.6747967479674797,\n",
       " 'KNeighborsClassifier': 0.6178861788617886,\n",
       " 'RandomForestClassifier': 0.7723577235772358}"
      ]
     },
     "execution_count": 103,
     "metadata": {},
     "output_type": "execute_result"
    }
   ],
   "source": [
    "new_Score['LogisticRegression']=r_model.score(x_test,y_test)\n",
    "models_score"
   ]
  },
  {
   "cell_type": "markdown",
   "id": "715bf56f",
   "metadata": {},
   "source": [
    "(67% to 78%)"
   ]
  },
  {
   "cell_type": "code",
   "execution_count": 104,
   "id": "e0942433",
   "metadata": {},
   "outputs": [
    {
     "data": {
      "text/plain": [
       "{'algorithm': 'auto',\n",
       " 'leaf_size': 30,\n",
       " 'metric': 'minkowski',\n",
       " 'metric_params': None,\n",
       " 'n_jobs': None,\n",
       " 'n_neighbors': 5,\n",
       " 'p': 2,\n",
       " 'weights': 'uniform'}"
      ]
     },
     "execution_count": 104,
     "metadata": {},
     "output_type": "execute_result"
    }
   ],
   "source": [
    "k_model=KNeighborsClassifier()\n",
    "k_model.get_params()"
   ]
  },
  {
   "cell_type": "code",
   "execution_count": 63,
   "id": "b1f637dd",
   "metadata": {},
   "outputs": [
    {
     "name": "stdout",
     "output_type": "stream",
     "text": [
      "Fitting 5 folds for each of 128 candidates, totalling 640 fits\n"
     ]
    }
   ],
   "source": [
    "np.random.seed(42)\n",
    "k_model_grid={'n_neighbors': [4,5,6,10],\n",
    "              'weights':['uniform', 'distance'],\n",
    "              'algorithm' : ['auto', 'ball_tree', 'kd_tree', 'brute'],\n",
    "              'n_jobs' : [-1],\n",
    "              'leaf_size':[30,40,20,50]\n",
    "             }\n",
    "k_model=GridSearchCV(estimator=KNeighborsClassifier(),\n",
    "                     param_grid=k_model_grid,\n",
    "                     verbose=True,\n",
    "                     cv=5\n",
    "                    )\n",
    "k_model.fit(x_train,y_train);"
   ]
  },
  {
   "cell_type": "code",
   "execution_count": 64,
   "id": "b7d80c0f",
   "metadata": {},
   "outputs": [
    {
     "data": {
      "text/plain": [
       "0.5853658536585366"
      ]
     },
     "execution_count": 64,
     "metadata": {},
     "output_type": "execute_result"
    }
   ],
   "source": [
    "k_model.score(x_test,y_test)"
   ]
  },
  {
   "cell_type": "code",
   "execution_count": 65,
   "id": "186f2c2d",
   "metadata": {},
   "outputs": [
    {
     "data": {
      "text/plain": [
       "{'LogisticRegression': 0.7886178861788617,\n",
       " 'KNeighborsClassifier': 0.6178861788617886,\n",
       " 'RandomForestClassifier': 0.7642276422764228}"
      ]
     },
     "execution_count": 65,
     "metadata": {},
     "output_type": "execute_result"
    }
   ],
   "source": [
    "new_Score['KNeighborsClassifier']=k_model.score(x_test,y_test)\n",
    "models_score"
   ]
  },
  {
   "cell_type": "markdown",
   "id": "c3f74946",
   "metadata": {},
   "source": [
    "**Not Much change** "
   ]
  },
  {
   "cell_type": "markdown",
   "id": "089b2044",
   "metadata": {},
   "source": [
    "# RandomForestClassifier"
   ]
  },
  {
   "cell_type": "code",
   "execution_count": 28,
   "id": "794600d6",
   "metadata": {},
   "outputs": [
    {
     "name": "stdout",
     "output_type": "stream",
     "text": [
      "Fitting 5 folds for each of 648 candidates, totalling 3240 fits\n"
     ]
    }
   ],
   "source": [
    "f_model_grid={'criterion':['gini', 'entropy', 'log_loss'],\n",
    "              'max_depth' : [None,5,15,3],\n",
    "              'min_samples_split' :[2,9,15],\n",
    "              'min_samples_leaf' : [1,7,12],\n",
    "              'max_features' : ['sqrt', 'log2', None],\n",
    "              'n_jobs':[-1],\n",
    "              'class_weight':['balanced', 'balanced_subsample']\n",
    "             } # 'n_estimators' (we will try it with looping)\n",
    "f_model=GridSearchCV(estimator=RandomForestClassifier(),\n",
    "                       param_grid=f_model_grid,\n",
    "                      verbose=True,\n",
    "                     cv=5)\n",
    "f_model.fit(x_train,y_train);"
   ]
  },
  {
   "cell_type": "code",
   "execution_count": 29,
   "id": "f13e9fd2",
   "metadata": {},
   "outputs": [
    {
     "data": {
      "text/plain": [
       "{'class_weight': 'balanced',\n",
       " 'criterion': 'entropy',\n",
       " 'max_depth': 3,\n",
       " 'max_features': 'sqrt',\n",
       " 'min_samples_leaf': 7,\n",
       " 'min_samples_split': 15,\n",
       " 'n_jobs': -1}"
      ]
     },
     "execution_count": 29,
     "metadata": {},
     "output_type": "execute_result"
    }
   ],
   "source": [
    "f_model.best_params_"
   ]
  },
  {
   "cell_type": "code",
   "execution_count": 30,
   "id": "a308b680",
   "metadata": {},
   "outputs": [
    {
     "data": {
      "text/plain": [
       "0.7886178861788617"
      ]
     },
     "execution_count": 30,
     "metadata": {},
     "output_type": "execute_result"
    }
   ],
   "source": [
    "f_model.score(x_test,y_test)"
   ]
  },
  {
   "cell_type": "markdown",
   "id": "5c6a8caa",
   "metadata": {},
   "source": [
    "Not Much improvement lets move for n_estimator"
   ]
  },
  {
   "cell_type": "code",
   "execution_count": 31,
   "id": "eb997a75",
   "metadata": {},
   "outputs": [
    {
     "name": "stdout",
     "output_type": "stream",
     "text": [
      "for n_estimator 1 accuracy = 79.67\n",
      "for n_estimator 3 accuracy = 74.80\n",
      "for n_estimator 5 accuracy = 56.91\n",
      "for n_estimator 7 accuracy = 76.42\n",
      "for n_estimator 9 accuracy = 66.67\n",
      "for n_estimator 11 accuracy = 76.42\n",
      "for n_estimator 13 accuracy = 76.42\n",
      "for n_estimator 15 accuracy = 77.24\n",
      "for n_estimator 17 accuracy = 78.05\n",
      "for n_estimator 19 accuracy = 78.86\n",
      "for n_estimator 21 accuracy = 79.67\n",
      "for n_estimator 23 accuracy = 79.67\n",
      "for n_estimator 25 accuracy = 77.24\n",
      "for n_estimator 27 accuracy = 75.61\n",
      "for n_estimator 29 accuracy = 79.67\n",
      "for n_estimator 31 accuracy = 77.24\n",
      "for n_estimator 33 accuracy = 77.24\n",
      "for n_estimator 35 accuracy = 77.24\n",
      "for n_estimator 37 accuracy = 78.86\n",
      "for n_estimator 39 accuracy = 78.86\n",
      "for n_estimator 41 accuracy = 78.86\n",
      "for n_estimator 43 accuracy = 77.24\n",
      "for n_estimator 45 accuracy = 78.86\n",
      "for n_estimator 47 accuracy = 78.86\n",
      "for n_estimator 49 accuracy = 80.49\n",
      "for n_estimator 51 accuracy = 73.17\n",
      "for n_estimator 53 accuracy = 80.49\n",
      "for n_estimator 55 accuracy = 78.05\n",
      "for n_estimator 57 accuracy = 79.67\n",
      "for n_estimator 59 accuracy = 79.67\n",
      "for n_estimator 61 accuracy = 79.67\n",
      "for n_estimator 63 accuracy = 79.67\n",
      "for n_estimator 65 accuracy = 80.49\n",
      "for n_estimator 67 accuracy = 78.05\n",
      "for n_estimator 69 accuracy = 76.42\n",
      "for n_estimator 71 accuracy = 78.05\n",
      "for n_estimator 73 accuracy = 78.86\n",
      "for n_estimator 75 accuracy = 80.49\n",
      "for n_estimator 77 accuracy = 78.05\n",
      "for n_estimator 79 accuracy = 78.86\n",
      "for n_estimator 81 accuracy = 79.67\n",
      "for n_estimator 83 accuracy = 79.67\n",
      "for n_estimator 85 accuracy = 80.49\n",
      "for n_estimator 87 accuracy = 78.86\n",
      "for n_estimator 89 accuracy = 80.49\n",
      "for n_estimator 91 accuracy = 78.05\n",
      "for n_estimator 93 accuracy = 78.05\n",
      "for n_estimator 95 accuracy = 77.24\n",
      "for n_estimator 97 accuracy = 79.67\n",
      "for n_estimator 99 accuracy = 77.24\n",
      "for n_estimator 101 accuracy = 78.86\n",
      "for n_estimator 103 accuracy = 78.86\n",
      "for n_estimator 105 accuracy = 78.86\n",
      "for n_estimator 107 accuracy = 78.86\n",
      "for n_estimator 109 accuracy = 78.05\n",
      "for n_estimator 111 accuracy = 79.67\n",
      "for n_estimator 113 accuracy = 78.05\n",
      "for n_estimator 115 accuracy = 79.67\n",
      "for n_estimator 117 accuracy = 78.05\n",
      "for n_estimator 119 accuracy = 79.67\n",
      "for n_estimator 121 accuracy = 78.86\n",
      "for n_estimator 123 accuracy = 78.86\n",
      "for n_estimator 125 accuracy = 78.86\n",
      "for n_estimator 127 accuracy = 80.49\n",
      "for n_estimator 129 accuracy = 79.67\n",
      "for n_estimator 131 accuracy = 80.49\n",
      "for n_estimator 133 accuracy = 78.86\n",
      "for n_estimator 135 accuracy = 79.67\n",
      "for n_estimator 137 accuracy = 80.49\n",
      "for n_estimator 139 accuracy = 79.67\n",
      "for n_estimator 141 accuracy = 78.86\n",
      "for n_estimator 143 accuracy = 80.49\n",
      "for n_estimator 145 accuracy = 77.24\n",
      "for n_estimator 147 accuracy = 80.49\n",
      "for n_estimator 149 accuracy = 79.67\n",
      "for n_estimator 151 accuracy = 80.49\n",
      "for n_estimator 153 accuracy = 78.86\n",
      "for n_estimator 155 accuracy = 79.67\n",
      "for n_estimator 157 accuracy = 78.86\n",
      "for n_estimator 159 accuracy = 79.67\n",
      "for n_estimator 161 accuracy = 79.67\n",
      "for n_estimator 163 accuracy = 79.67\n",
      "for n_estimator 165 accuracy = 79.67\n",
      "for n_estimator 167 accuracy = 79.67\n",
      "for n_estimator 169 accuracy = 78.86\n",
      "for n_estimator 171 accuracy = 79.67\n",
      "for n_estimator 173 accuracy = 80.49\n",
      "for n_estimator 175 accuracy = 79.67\n",
      "for n_estimator 177 accuracy = 78.86\n",
      "for n_estimator 179 accuracy = 79.67\n",
      "for n_estimator 181 accuracy = 80.49\n",
      "for n_estimator 183 accuracy = 79.67\n",
      "for n_estimator 185 accuracy = 79.67\n",
      "for n_estimator 187 accuracy = 79.67\n",
      "for n_estimator 189 accuracy = 79.67\n",
      "for n_estimator 191 accuracy = 79.67\n",
      "for n_estimator 193 accuracy = 79.67\n",
      "for n_estimator 195 accuracy = 79.67\n",
      "for n_estimator 197 accuracy = 79.67\n",
      "for n_estimator 199 accuracy = 78.86\n"
     ]
    }
   ],
   "source": [
    "np.random.seed(42)\n",
    "for i in range(1,200,2):\n",
    "    random=RandomForestClassifier(n_estimators=i,class_weight='balanced',criterion='log_loss',max_depth=3,\n",
    "                                 max_features='log2',min_samples_leaf=1,min_samples_split=2,n_jobs=-1)\n",
    "    random.fit(x_train,y_train)\n",
    "    print(f\"for n_estimator {i} accuracy = {random.score(x_test,y_test)*100:0.2f}\")"
   ]
  },
  {
   "cell_type": "markdown",
   "id": "289bafa1",
   "metadata": {},
   "source": [
    "at n=49 -> 80.49%\n",
    "Not Much score lets try for another 3 Models\n",
    "### GradientBoostingClassifier"
   ]
  },
  {
   "cell_type": "code",
   "execution_count": 105,
   "id": "8a5d1a81",
   "metadata": {},
   "outputs": [],
   "source": [
    "from sklearn.ensemble import GradientBoostingClassifier\n",
    "g_model_base=GradientBoostingClassifier()\n",
    "g_model_base.fit(x_train,y_train)\n",
    "models_score['GradientBoostingClassifier']=g_model_base.score(x_test,y_test)"
   ]
  },
  {
   "cell_type": "markdown",
   "id": "998fca1d",
   "metadata": {},
   "source": [
    "### SVC"
   ]
  },
  {
   "cell_type": "code",
   "execution_count": 106,
   "id": "9ba5b4fb",
   "metadata": {},
   "outputs": [],
   "source": [
    "from sklearn.svm import SVC\n",
    "s_model_base=SVC()\n",
    "s_model_base.fit(x_train,y_train)\n",
    "models_score['SVC']=s_model_base.score(x_test,y_test)"
   ]
  },
  {
   "cell_type": "markdown",
   "id": "481300a6",
   "metadata": {},
   "source": [
    "### GaussianNB "
   ]
  },
  {
   "cell_type": "code",
   "execution_count": 107,
   "id": "5ed6fc0a",
   "metadata": {},
   "outputs": [],
   "source": [
    "np.random.seed(42)\n",
    "from sklearn.naive_bayes import GaussianNB\n",
    "gu_model_base=GaussianNB()\n",
    "gu_model_base.fit(x_train,y_train)\n",
    "models_score['GaussianNB']=gu_model_base.score(x_test,y_test)"
   ]
  },
  {
   "cell_type": "code",
   "execution_count": 108,
   "id": "aa1eca3e",
   "metadata": {},
   "outputs": [
    {
     "data": {
      "text/plain": [
       "{'LogisticRegression': 0.6747967479674797,\n",
       " 'KNeighborsClassifier': 0.6178861788617886,\n",
       " 'RandomForestClassifier': 0.7723577235772358,\n",
       " 'GradientBoostingClassifier': 0.7642276422764228,\n",
       " 'SVC': 0.6504065040650406,\n",
       " 'GaussianNB': 0.7886178861788617}"
      ]
     },
     "execution_count": 108,
     "metadata": {},
     "output_type": "execute_result"
    }
   ],
   "source": [
    "models_score"
   ]
  },
  {
   "cell_type": "markdown",
   "id": "0bdbd376",
   "metadata": {},
   "source": [
    "We will move with Logistic Regression\n",
    "### Feature Importance"
   ]
  },
  {
   "cell_type": "code",
   "execution_count": 109,
   "id": "3bf124c4",
   "metadata": {},
   "outputs": [
    {
     "data": {
      "text/plain": [
       "{'priors': None, 'var_smoothing': 1e-09}"
      ]
     },
     "execution_count": 109,
     "metadata": {},
     "output_type": "execute_result"
    }
   ],
   "source": [
    "gu_model_base.get_params()"
   ]
  },
  {
   "cell_type": "code",
   "execution_count": 110,
   "id": "fd7482c3",
   "metadata": {},
   "outputs": [],
   "source": [
    "np.random.seed(42)\n",
    "f=f_model_base.feature_importances_"
   ]
  },
  {
   "cell_type": "code",
   "execution_count": 40,
   "id": "d43c2324",
   "metadata": {},
   "outputs": [],
   "source": [
    "def plot_features(columns,importance):\n",
    "    df=(pd.DataFrame({'features':columns,'feature_importance':importance}).sort_values('feature_importance',ascending=True)\n",
    "        .reset_index(drop=True))\n",
    "    fig,ax=plt.subplots(figsize=(10,6))\n",
    "    ax.barh(df['features'],df['feature_importance'])\n",
    "    ax.set_ylabel('Features')\n",
    "    ax.set_xlabel('Feature importance')"
   ]
  },
  {
   "cell_type": "code",
   "execution_count": 41,
   "id": "17e5000f",
   "metadata": {},
   "outputs": [
    {
     "data": {
      "image/png": "[encoded data removed]",
      "text/plain": [
       "<Figure size 720x432 with 1 Axes>"
      ]
     },
     "metadata": {
      "needs_background": "light"
     },
     "output_type": "display_data"
    }
   ],
   "source": [
    "plot_features(x_train.columns,f)"
   ]
  },
  {
   "cell_type": "code",
   "execution_count": 111,
   "id": "49dba6eb",
   "metadata": {},
   "outputs": [
    {
     "name": "stdout",
     "output_type": "stream",
     "text": [
      "confusion matrix\n",
      " [[18 25]\n",
      " [ 1 79]]\n",
      "classification Report\n",
      "               precision    recall  f1-score   support\n",
      "\n",
      "           1       0.95      0.42      0.58        43\n",
      "           2       0.76      0.99      0.86        80\n",
      "\n",
      "    accuracy                           0.79       123\n",
      "   macro avg       0.85      0.70      0.72       123\n",
      "weighted avg       0.83      0.79      0.76       123\n",
      "\n",
      "accuracy score\n",
      " 0.7886178861788617\n"
     ]
    }
   ],
   "source": [
    "from sklearn.metrics import confusion_matrix , classification_report ,accuracy_score\n",
    "np.random.seed(42)\n",
    "def evaluate(y_test,y_pred,pred):\n",
    "    #confusion matrix\n",
    "    print('confusion matrix\\n',confusion_matrix(y_test,y_pred))\n",
    "    print('classification Report\\n',classification_report(y_test,y_pred))\n",
    "    print('accuracy score\\n',accuracy_score(y_test,y_pred))\n",
    "evaluate(y_test,r_model.predict(x_test),r_model.predict_proba(x_test))"
   ]
  },
  {
   "cell_type": "code",
   "execution_count": 112,
   "id": "09ee8d77",
   "metadata": {},
   "outputs": [
    {
     "data": {
      "text/html": [
       "<div>\n",
       "<style scoped>\n",
       "    .dataframe tbody tr th:only-of-type {\n",
       "        vertical-align: middle;\n",
       "    }\n",
       "\n",
       "    .dataframe tbody tr th {\n",
       "        vertical-align: top;\n",
       "    }\n",
       "\n",
       "    .dataframe thead th {\n",
       "        text-align: right;\n",
       "    }\n",
       "</style>\n",
       "<table border=\"1\" class=\"dataframe\">\n",
       "  <thead>\n",
       "    <tr style=\"text-align: right;\">\n",
       "      <th></th>\n",
       "      <th>Loan_ID</th>\n",
       "      <th>Gender</th>\n",
       "      <th>Married</th>\n",
       "      <th>Dependents</th>\n",
       "      <th>Education</th>\n",
       "      <th>Self_Employed</th>\n",
       "      <th>ApplicantIncome</th>\n",
       "      <th>CoapplicantIncome</th>\n",
       "      <th>LoanAmount</th>\n",
       "      <th>Loan_Amount_Term</th>\n",
       "      <th>Credit_History</th>\n",
       "      <th>Property_Area</th>\n",
       "    </tr>\n",
       "  </thead>\n",
       "  <tbody>\n",
       "    <tr>\n",
       "      <th>0</th>\n",
       "      <td>LP001015</td>\n",
       "      <td>Male</td>\n",
       "      <td>Yes</td>\n",
       "      <td>0</td>\n",
       "      <td>Graduate</td>\n",
       "      <td>No</td>\n",
       "      <td>5720</td>\n",
       "      <td>0</td>\n",
       "      <td>110.0</td>\n",
       "      <td>360.0</td>\n",
       "      <td>1.0</td>\n",
       "      <td>Urban</td>\n",
       "    </tr>\n",
       "    <tr>\n",
       "      <th>1</th>\n",
       "      <td>LP001022</td>\n",
       "      <td>Male</td>\n",
       "      <td>Yes</td>\n",
       "      <td>1</td>\n",
       "      <td>Graduate</td>\n",
       "      <td>No</td>\n",
       "      <td>3076</td>\n",
       "      <td>1500</td>\n",
       "      <td>126.0</td>\n",
       "      <td>360.0</td>\n",
       "      <td>1.0</td>\n",
       "      <td>Urban</td>\n",
       "    </tr>\n",
       "    <tr>\n",
       "      <th>2</th>\n",
       "      <td>LP001031</td>\n",
       "      <td>Male</td>\n",
       "      <td>Yes</td>\n",
       "      <td>2</td>\n",
       "      <td>Graduate</td>\n",
       "      <td>No</td>\n",
       "      <td>5000</td>\n",
       "      <td>1800</td>\n",
       "      <td>208.0</td>\n",
       "      <td>360.0</td>\n",
       "      <td>1.0</td>\n",
       "      <td>Urban</td>\n",
       "    </tr>\n",
       "    <tr>\n",
       "      <th>3</th>\n",
       "      <td>LP001035</td>\n",
       "      <td>Male</td>\n",
       "      <td>Yes</td>\n",
       "      <td>2</td>\n",
       "      <td>Graduate</td>\n",
       "      <td>No</td>\n",
       "      <td>2340</td>\n",
       "      <td>2546</td>\n",
       "      <td>100.0</td>\n",
       "      <td>360.0</td>\n",
       "      <td>NaN</td>\n",
       "      <td>Urban</td>\n",
       "    </tr>\n",
       "    <tr>\n",
       "      <th>4</th>\n",
       "      <td>LP001051</td>\n",
       "      <td>Male</td>\n",
       "      <td>No</td>\n",
       "      <td>0</td>\n",
       "      <td>Not Graduate</td>\n",
       "      <td>No</td>\n",
       "      <td>3276</td>\n",
       "      <td>0</td>\n",
       "      <td>78.0</td>\n",
       "      <td>360.0</td>\n",
       "      <td>1.0</td>\n",
       "      <td>Urban</td>\n",
       "    </tr>\n",
       "  </tbody>\n",
       "</table>\n",
       "</div>"
      ],
      "text/plain": [
       "    Loan_ID Gender Married Dependents     Education Self_Employed  \\\n",
       "0  LP001015   Male     Yes          0      Graduate            No   \n",
       "1  LP001022   Male     Yes          1      Graduate            No   \n",
       "2  LP001031   Male     Yes          2      Graduate            No   \n",
       "3  LP001035   Male     Yes          2      Graduate            No   \n",
       "4  LP001051   Male      No          0  Not Graduate            No   \n",
       "\n",
       "   ApplicantIncome  CoapplicantIncome  LoanAmount  Loan_Amount_Term  \\\n",
       "0             5720                  0       110.0             360.0   \n",
       "1             3076               1500       126.0             360.0   \n",
       "2             5000               1800       208.0             360.0   \n",
       "3             2340               2546       100.0             360.0   \n",
       "4             3276                  0        78.0             360.0   \n",
       "\n",
       "   Credit_History Property_Area  \n",
       "0             1.0         Urban  \n",
       "1             1.0         Urban  \n",
       "2             1.0         Urban  \n",
       "3             NaN         Urban  \n",
       "4             1.0         Urban  "
      ]
     },
     "execution_count": 112,
     "metadata": {},
     "output_type": "execute_result"
    }
   ],
   "source": [
    "#lets add the loan_status column in test data set\n",
    "t=pd.read_csv('test_Y3wMUE5_7gLdaTN.csv')\n",
    "t.head()"
   ]
  },
  {
   "cell_type": "code",
   "execution_count": 113,
   "id": "c621b72d",
   "metadata": {},
   "outputs": [
    {
     "name": "stdout",
     "output_type": "stream",
     "text": [
      "Numeric Labels Content Null entries: \n",
      "\n",
      "LoanAmount\n",
      "Loan_Amount_Term\n",
      "Credit_History\n",
      "String Labels Content Null entries: \n",
      "\n",
      "Gender\n",
      "Dependents\n",
      "Self_Employed\n"
     ]
    }
   ],
   "source": [
    "t_tmp=preprocessing(t)"
   ]
  },
  {
   "cell_type": "code",
   "execution_count": 114,
   "id": "f4a870f2",
   "metadata": {},
   "outputs": [
    {
     "data": {
      "text/plain": [
       "array([2, 2, 2, 2, 2, 2, 2, 2, 2, 2, 2, 2, 2, 2, 2, 2, 2, 2, 2, 2, 2, 2,\n",
       "       2, 2, 2, 1, 2, 2, 2, 2, 2, 2, 2, 2, 2, 2, 2, 2, 2, 2, 2, 2, 2, 2,\n",
       "       2, 2, 2, 2, 2, 2, 2, 2, 2, 2, 2, 2, 2, 2, 2, 2, 2, 2, 2, 1, 2, 2,\n",
       "       2, 2, 2, 1, 2, 2, 2, 2, 2, 2, 2, 2, 2, 2, 2, 2, 2, 2, 2, 2, 2, 2,\n",
       "       2, 2, 2, 2, 2, 2, 2, 2, 2, 2, 2, 2, 2, 1, 2, 2, 2, 2, 1, 2, 2, 2,\n",
       "       2, 2, 2, 2, 2, 2, 2, 2, 2, 2, 2, 2, 2, 1, 1, 2, 2, 2, 2, 2, 2, 2,\n",
       "       2, 2, 2, 2, 2, 2, 2, 2, 1, 2, 2, 2, 2, 2, 2, 1, 2, 2, 2, 2, 2, 2,\n",
       "       2, 2, 2, 2, 2, 2, 2, 2, 2, 2, 2, 1, 2, 2, 2, 2, 2, 2, 2, 2, 2, 2,\n",
       "       2, 2, 2, 2, 2, 2, 2, 2, 2, 2, 2, 2, 2, 2, 2, 2, 2, 2, 2, 2, 2, 2,\n",
       "       2, 2, 2, 2, 2, 2, 2, 2, 2, 2, 2, 2, 2, 1, 2, 2, 2, 2, 2, 2, 2, 2,\n",
       "       2, 2, 2, 2, 2, 2, 2, 2, 2, 2, 2, 2, 2, 2, 2, 2, 1, 2, 2, 2, 2, 2,\n",
       "       2, 2, 2, 2, 2, 2, 2, 2, 2, 2, 2, 2, 2, 1, 2, 2, 2, 2, 2, 2, 2, 2,\n",
       "       2, 2, 2, 2, 2, 2, 2, 2, 2, 2, 2, 2, 2, 2, 2, 2, 2, 2, 2, 2, 2, 2,\n",
       "       2, 2, 2, 2, 2, 2, 2, 2, 2, 2, 2, 2, 2, 2, 2, 2, 2, 2, 2, 2, 2, 2,\n",
       "       2, 2, 2, 2, 2, 2, 2, 2, 2, 2, 2, 2, 2, 2, 2, 2, 2, 2, 2, 2, 2, 2,\n",
       "       2, 2, 2, 2, 2, 2, 2, 2, 2, 1, 2, 2, 2, 2, 2, 2, 2, 2, 2, 2, 2, 1,\n",
       "       2, 2, 2, 2, 2, 2, 2, 2, 2, 2, 2, 2, 2, 2, 2], dtype=int8)"
      ]
     },
     "execution_count": 114,
     "metadata": {},
     "output_type": "execute_result"
    }
   ],
   "source": [
    "y_t=r_model_base.predict(t_tmp)\n",
    "y_t"
   ]
  },
  {
   "cell_type": "code",
   "execution_count": 119,
   "id": "52180ce5",
   "metadata": {},
   "outputs": [],
   "source": [
    "t['Loan_Status']=y_t"
   ]
  },
  {
   "cell_type": "code",
   "execution_count": 120,
   "id": "d60274f9",
   "metadata": {},
   "outputs": [
    {
     "data": {
      "text/plain": [
       "0      2\n",
       "1      2\n",
       "2      2\n",
       "3      2\n",
       "4      2\n",
       "      ..\n",
       "362    2\n",
       "363    2\n",
       "364    2\n",
       "365    2\n",
       "366    2\n",
       "Name: Loan_Status, Length: 367, dtype: int8"
      ]
     },
     "execution_count": 120,
     "metadata": {},
     "output_type": "execute_result"
    }
   ],
   "source": [
    "t['Loan_Status']"
   ]
  },
  {
   "cell_type": "code",
   "execution_count": null,
   "id": "1b852bfd",
   "metadata": {},
   "outputs": [],
   "source": []
  }
 ],
 "metadata": {
  "kernelspec": {
   "display_name": "Python 3 (ipykernel)",
   "language": "python",
   "name": "python3"
  },
  "language_info": {
   "codemirror_mode": {
    "name": "ipython",
    "version": 3
   },
   "file_extension": ".py",
   "mimetype": "text/x-python",
   "name": "python",
   "nbconvert_exporter": "python",
   "pygments_lexer": "ipython3",
   "version": "3.10.0"
  }
 },
 "nbformat": 4,
 "nbformat_minor": 5
}
